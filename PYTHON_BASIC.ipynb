{
 "cells": [
  {
   "cell_type": "code",
   "execution_count": 8,
   "id": "181130e1",
   "metadata": {},
   "outputs": [
    {
     "name": "stdout",
     "output_type": "stream",
     "text": [
      "['a', 'b', 'c']\n",
      "['a', 'b', 'c', 'd']\n",
      "['a', 'c', 'd']\n",
      "['a', 'B', 'd']\n"
     ]
    }
   ],
   "source": [
    "#CREATE A LIST\n",
    "this_list = [\"a\", \"b\", \"c\"]\n",
    "print(this_list)\n",
    "\n",
    "#ADDING ELEMENT INTO A LIST\n",
    "this_list.append(\"d\")\n",
    "print(this_list)\n",
    "\n",
    "#REMOVING ELEMENT FROM A LIST\n",
    "this_list.remove(\"b\")\n",
    "print(this_list)\n",
    "\n",
    "#MODIFYING ELEMENT IN A LIST\n",
    "this_list[1] = \"B\"\n",
    "print(this_list)"
   ]
  },
  {
   "cell_type": "code",
   "execution_count": 7,
   "id": "46a4e848",
   "metadata": {},
   "outputs": [
    {
     "name": "stdout",
     "output_type": "stream",
     "text": [
      "{'Name': 'Sergei', 'Subject': 'Maths', 'Marks': 43}\n",
      "{'Name': 'Sergei', 'Subject': 'Maths', 'Marks': 43, 'Roll Number': '21'}\n",
      "{'Name': 'Sergei', 'Subject': 'Maths', 'Marks': 43}\n",
      "{'Name': 'Sergei', 'Subject': 'Maths', 'Marks': 78}\n"
     ]
    }
   ],
   "source": [
    "#CREATE A DICTIONARY\n",
    "this_dict = {\"Name\":\"Sergei\",\"Subject\":\"Maths\",\"Marks\":43}\n",
    "print(this_dict)\n",
    "\n",
    "#ADDING ELEMENT INTO A DICTIONARY\n",
    "this_dict[\"Roll Number\"] = \"21\"\n",
    "print(this_dict)\n",
    "\n",
    "#REMOVING ELEMENTS FROM A DICTIONARY\n",
    "this_dict.pop(\"Roll Number\")\n",
    "print(this_dict)\n",
    "\n",
    "#MODIFYING ELEMENT IN A DICTIONARY\n",
    "this_dict.update({\"Marks\": 78})\n",
    "print(this_dict)"
   ]
  },
  {
   "cell_type": "code",
   "execution_count": 6,
   "id": "33ad373c",
   "metadata": {},
   "outputs": [
    {
     "name": "stdout",
     "output_type": "stream",
     "text": [
      "{'EARTH', 'FIRE', 'AIR'}\n",
      "{'WATER', 'EARTH', 'FIRE', 'AIR'}\n",
      "{'WATER', 'EARTH', 'AIR'}\n"
     ]
    }
   ],
   "source": [
    "#CREATE A SET\n",
    "this_set = {\"FIRE\", \"EARTH\", \"AIR\"}\n",
    "print(this_set)\n",
    "\n",
    "#ADDING A ELEMENT INTO A SET\n",
    "this_set.add(\"WATER\")\n",
    "print(this_set)\n",
    "\n",
    "#REMOVING ELEMENTS FROM A SET\n",
    "this_set.remove(\"FIRE\")\n",
    "print(this_set)\n"
   ]
  }
 ],
 "metadata": {
  "kernelspec": {
   "display_name": "Python 3 (ipykernel)",
   "language": "python",
   "name": "python3"
  },
  "language_info": {
   "codemirror_mode": {
    "name": "ipython",
    "version": 3
   },
   "file_extension": ".py",
   "mimetype": "text/x-python",
   "name": "python",
   "nbconvert_exporter": "python",
   "pygments_lexer": "ipython3",
   "version": "3.10.9"
  }
 },
 "nbformat": 4,
 "nbformat_minor": 5
}
